{
 "cells": [
  {
   "cell_type": "markdown",
   "metadata": {},
   "source": [
    "### SHAP Explainability for CNN Model"
   ]
  },
  {
   "cell_type": "code",
   "execution_count": 16,
   "metadata": {},
   "outputs": [
    {
     "name": "stderr",
     "output_type": "stream",
     "text": [
      "WARNING:absl:Compiled the loaded model, but the compiled metrics have yet to be built. `model.compile_metrics` will be empty until you train or evaluate the model.\n"
     ]
    },
    {
     "ename": "FileNotFoundError",
     "evalue": "[Errno 2] No such file or directory: 'X_creditcard_train.npy'",
     "output_type": "error",
     "traceback": [
      "\u001b[1;31m---------------------------------------------------------------------------\u001b[0m",
      "\u001b[1;31mFileNotFoundError\u001b[0m                         Traceback (most recent call last)",
      "Cell \u001b[1;32mIn[16], line 10\u001b[0m\n\u001b[0;32m      6\u001b[0m model \u001b[38;5;241m=\u001b[39m load_model(\u001b[38;5;124m'\u001b[39m\u001b[38;5;124mcnn_model_2024-10-22-12-34-32.h5\u001b[39m\u001b[38;5;124m'\u001b[39m)\n\u001b[0;32m      8\u001b[0m \u001b[38;5;66;03m# Assuming X_creditcard_train and X_creditcard_test are numpy arrays of input data\u001b[39;00m\n\u001b[0;32m      9\u001b[0m \u001b[38;5;66;03m# You need to reshape the test data into the appropriate shape expected by SHAP\u001b[39;00m\n\u001b[1;32m---> 10\u001b[0m X_creditcard_train \u001b[38;5;241m=\u001b[39m \u001b[43mnp\u001b[49m\u001b[38;5;241;43m.\u001b[39;49m\u001b[43mload\u001b[49m\u001b[43m(\u001b[49m\u001b[38;5;124;43m'\u001b[39;49m\u001b[38;5;124;43mX_creditcard_train.npy\u001b[39;49m\u001b[38;5;124;43m'\u001b[39;49m\u001b[43m)\u001b[49m  \u001b[38;5;66;03m# Example loading\u001b[39;00m\n\u001b[0;32m     11\u001b[0m X_creditcard_test \u001b[38;5;241m=\u001b[39m np\u001b[38;5;241m.\u001b[39mload(\u001b[38;5;124m'\u001b[39m\u001b[38;5;124mX_creditcard_test.npy\u001b[39m\u001b[38;5;124m'\u001b[39m)    \u001b[38;5;66;03m# Example loading\u001b[39;00m\n\u001b[0;32m     13\u001b[0m \u001b[38;5;66;03m# Initialize SHAP explainer with a sample of training data\u001b[39;00m\n",
      "File \u001b[1;32mc:\\Users\\lenovo\\Documents\\10acadmy\\FraudDetection-for-E-commerce-Banking\\.venv\\Lib\\site-packages\\numpy\\lib\\npyio.py:405\u001b[0m, in \u001b[0;36mload\u001b[1;34m(file, mmap_mode, allow_pickle, fix_imports, encoding, max_header_size)\u001b[0m\n\u001b[0;32m    403\u001b[0m     own_fid \u001b[38;5;241m=\u001b[39m \u001b[38;5;28;01mFalse\u001b[39;00m\n\u001b[0;32m    404\u001b[0m \u001b[38;5;28;01melse\u001b[39;00m:\n\u001b[1;32m--> 405\u001b[0m     fid \u001b[38;5;241m=\u001b[39m stack\u001b[38;5;241m.\u001b[39menter_context(\u001b[38;5;28;43mopen\u001b[39;49m\u001b[43m(\u001b[49m\u001b[43mos_fspath\u001b[49m\u001b[43m(\u001b[49m\u001b[43mfile\u001b[49m\u001b[43m)\u001b[49m\u001b[43m,\u001b[49m\u001b[43m \u001b[49m\u001b[38;5;124;43m\"\u001b[39;49m\u001b[38;5;124;43mrb\u001b[39;49m\u001b[38;5;124;43m\"\u001b[39;49m\u001b[43m)\u001b[49m)\n\u001b[0;32m    406\u001b[0m     own_fid \u001b[38;5;241m=\u001b[39m \u001b[38;5;28;01mTrue\u001b[39;00m\n\u001b[0;32m    408\u001b[0m \u001b[38;5;66;03m# Code to distinguish from NumPy binary files and pickles.\u001b[39;00m\n",
      "\u001b[1;31mFileNotFoundError\u001b[0m: [Errno 2] No such file or directory: 'X_creditcard_train.npy'"
     ]
    }
   ],
   "source": [
    "import shap\n",
    "import numpy as np\n",
    "from keras.models import load_model\n",
    "\n",
    "# Load the model (replace pickle with load_model for a Keras CNN model)\n",
    "model = load_model('cnn_model_2024-10-22-12-34-32.h5')\n",
    "\n",
    "# Assuming X_creditcard_train and X_creditcard_test are numpy arrays of input data\n",
    "# You need to reshape the test data into the appropriate shape expected by SHAP\n",
    "X_creditcard_train = np.load('X_creditcard_train.npy')  # Example loading\n",
    "X_creditcard_test = np.load('X_creditcard_test.npy')    # Example loading\n",
    "\n",
    "# Initialize SHAP explainer with a sample of training data\n",
    "explainer = shap.DeepExplainer(model, X_creditcard_train[:1000])  # Sampling for performance\n",
    "\n",
    "# Calculate SHAP values for the test data\n",
    "shap_values = explainer.shap_values(X_creditcard_test[:1000])  # Sample test data for explainability\n",
    "\n",
    "# Plot SHAP summary (Feature Importance Overview)\n",
    "shap.summary_plot(shap_values[0], X_creditcard_test[:1000])\n",
    "\n",
    "# Plot SHAP force plot for a single prediction (index 0 example)\n",
    "shap.force_plot(explainer.expected_value[0], shap_values[0][0], X_creditcard_test[0])\n",
    "\n",
    "# Plot SHAP dependence plot for a specific feature (example feature index 0)\n",
    "shap.dependence_plot(0, shap_values[0], X_creditcard_test)\n"
   ]
  },
  {
   "cell_type": "code",
   "execution_count": 18,
   "metadata": {},
   "outputs": [
    {
     "name": "stderr",
     "output_type": "stream",
     "text": [
      "WARNING:absl:Compiled the loaded model, but the compiled metrics have yet to be built. `model.compile_metrics` will be empty until you train or evaluate the model.\n"
     ]
    }
   ],
   "source": [
    "from keras.models import load_model\n",
    "\n",
    "# Load the model in .h5 format\n",
    "cnn_model = load_model('cnn_model_2024-10-22-12-34-32.h5')"
   ]
  },
  {
   "cell_type": "code",
   "execution_count": 19,
   "metadata": {},
   "outputs": [
    {
     "ename": "NameError",
     "evalue": "name 'X_creditcard_train' is not defined",
     "output_type": "error",
     "traceback": [
      "\u001b[1;31m---------------------------------------------------------------------------\u001b[0m",
      "\u001b[1;31mNameError\u001b[0m                                 Traceback (most recent call last)",
      "Cell \u001b[1;32mIn[19], line 4\u001b[0m\n\u001b[0;32m      1\u001b[0m \u001b[38;5;28;01mimport\u001b[39;00m \u001b[38;5;21;01mshap\u001b[39;00m\n\u001b[0;32m      3\u001b[0m \u001b[38;5;66;03m# Create SHAP explainer for the model\u001b[39;00m\n\u001b[1;32m----> 4\u001b[0m explainer \u001b[38;5;241m=\u001b[39m shap\u001b[38;5;241m.\u001b[39mKernelExplainer(cnn_model\u001b[38;5;241m.\u001b[39mpredict, \u001b[43mX_creditcard_train\u001b[49m)\n\u001b[0;32m      6\u001b[0m \u001b[38;5;66;03m# Get SHAP values for test data\u001b[39;00m\n\u001b[0;32m      7\u001b[0m shap_values \u001b[38;5;241m=\u001b[39m explainer\u001b[38;5;241m.\u001b[39mshap_values(X_creditcard_test)\n",
      "\u001b[1;31mNameError\u001b[0m: name 'X_creditcard_train' is not defined"
     ]
    }
   ],
   "source": [
    "import shap\n",
    "\n",
    "# Create SHAP explainer for the model\n",
    "explainer = shap.KernelExplainer(cnn_model.predict, X_creditcard_train)\n",
    "\n",
    "# Get SHAP values for test data\n",
    "shap_values = explainer.shap_values(X_creditcard_test)\n",
    "\n",
    "# Plot summary of feature importance\n",
    "shap.summary_plot(shap_values, X_creditcard_test)"
   ]
  }
 ],
 "metadata": {
  "kernelspec": {
   "display_name": ".venv",
   "language": "python",
   "name": "python3"
  },
  "language_info": {
   "codemirror_mode": {
    "name": "ipython",
    "version": 3
   },
   "file_extension": ".py",
   "mimetype": "text/x-python",
   "name": "python",
   "nbconvert_exporter": "python",
   "pygments_lexer": "ipython3",
   "version": "3.11.4"
  }
 },
 "nbformat": 4,
 "nbformat_minor": 2
}
