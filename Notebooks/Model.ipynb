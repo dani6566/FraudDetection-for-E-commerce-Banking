{
 "cells": [
  {
   "cell_type": "markdown",
   "metadata": {},
   "source": [
    "## Model Building and Training"
   ]
  },
  {
   "cell_type": "markdown",
   "metadata": {},
   "source": [
    "### Data Preparation"
   ]
  },
  {
   "cell_type": "code",
   "execution_count": 2,
   "metadata": {},
   "outputs": [],
   "source": [
    "import pandas as pd"
   ]
  },
  {
   "cell_type": "code",
   "execution_count": 6,
   "metadata": {},
   "outputs": [],
   "source": [
    "fraud_df = pd.read_csv(\"../Notebooks/fraud_dataset.csv\")\n",
    "creditcard_df = pd.read_csv(\"../data/creditcard.csv\")"
   ]
  },
  {
   "cell_type": "markdown",
   "metadata": {},
   "source": [
    "#### Feature and Target Separation"
   ]
  },
  {
   "cell_type": "code",
   "execution_count": 19,
   "metadata": {},
   "outputs": [],
   "source": [
    "# Correcting data types\n",
    "fraud_df['signup_time'] = pd.to_datetime(fraud_df['signup_time'])\n",
    "fraud_df['purchase_time'] = pd.to_datetime(fraud_df['purchase_time'])"
   ]
  },
  {
   "cell_type": "code",
   "execution_count": 26,
   "metadata": {},
   "outputs": [],
   "source": [
    "# Create a new feature: time difference between signup and purchase (in minutes)\n",
    "fraud_df['time_diff_minutes'] = (fraud_df['purchase_time'] - fraud_df['signup_time']).dt.total_seconds() / 60.0\n",
    "\n",
    "# Extract additional features from 'purchase_time'\n",
    "fraud_df['purchase_hour'] = fraud_df['purchase_time'].dt.hour\n",
    "fraud_df['purchase_day'] = fraud_df['purchase_time'].dt.day\n",
    "fraud_df['purchase_month'] = fraud_df['purchase_time'].dt.month"
   ]
  },
  {
   "cell_type": "code",
   "execution_count": 27,
   "metadata": {},
   "outputs": [],
   "source": [
    "# Drop the original 'signup_time' and 'purchase_time' columns\n",
    "fraud_df = fraud_df.drop(columns=['signup_time','purchase_time'])"
   ]
  },
  {
   "cell_type": "code",
   "execution_count": 28,
   "metadata": {},
   "outputs": [],
   "source": [
    "# For Fraud_Data.csv\n",
    "X_fraud = fraud_df.drop(columns=['class'])\n",
    "y_fraud = fraud_df['class']\n",
    "\n",
    "# For creditcard.csv\n",
    "X_creditcard = creditcard_df.drop(columns=['Class'])\n",
    "y_creditcard = creditcard_df['Class']"
   ]
  },
  {
   "cell_type": "code",
   "execution_count": 29,
   "metadata": {},
   "outputs": [],
   "source": [
    "from sklearn.preprocessing import LabelEncoder\n",
    "\n",
    "#  Label encoding for categorical columns in Fraud_Data\n",
    "label_encoder = LabelEncoder()\n",
    "X_fraud['device_id'] = label_encoder.fit_transform(X_fraud['device_id'])\n",
    "# X_fraud['source'] = label_encoder.fit_transform(X_fraud['source'])\n",
    "# X_fraud['browser'] = label_encoder.fit_transform(X_fraud['browser'])\n",
    "# X_fraud['sex'] = label_encoder.fit_transform(X_fraud['sex'])"
   ]
  },
  {
   "cell_type": "markdown",
   "metadata": {},
   "source": [
    "#### Train-Test Split:"
   ]
  },
  {
   "cell_type": "code",
   "execution_count": 30,
   "metadata": {},
   "outputs": [],
   "source": [
    "from sklearn.model_selection import train_test_split\n",
    "\n",
    "# Split Fraud Data\n",
    "X_fraud_train, X_fraud_test, y_fraud_train, y_fraud_test = train_test_split(X_fraud, y_fraud, test_size=0.2, random_state=42)\n",
    "\n",
    "# Split Credit Card Data\n",
    "X_creditcard_train, X_creditcard_test, y_creditcard_train, y_creditcard_test = train_test_split(X_creditcard, y_creditcard, test_size=0.2, random_state=42)"
   ]
  },
  {
   "cell_type": "code",
   "execution_count": 31,
   "metadata": {},
   "outputs": [
    {
     "data": {
      "text/plain": [
       "user_id                   int64\n",
       "purchase_value          float64\n",
       "device_id                 int32\n",
       "age                       int64\n",
       "ip_address                int64\n",
       "transaction_count       float64\n",
       "transaction_velocity    float64\n",
       "hour_of_day               int64\n",
       "day_of_week               int64\n",
       "browser_FireFox            bool\n",
       "browser_IE                 bool\n",
       "browser_Opera              bool\n",
       "browser_Safari             bool\n",
       "source_Direct              bool\n",
       "source_SEO                 bool\n",
       "sex_M                      bool\n",
       "time_diff_minutes       float64\n",
       "purchase_hour             int32\n",
       "purchase_day              int32\n",
       "purchase_month            int32\n",
       "dtype: object"
      ]
     },
     "execution_count": 31,
     "metadata": {},
     "output_type": "execute_result"
    }
   ],
   "source": [
    "X_fraud_train.dtypes"
   ]
  },
  {
   "cell_type": "code",
   "execution_count": 32,
   "metadata": {},
   "outputs": [
    {
     "data": {
      "text/plain": [
       "user_id                   int64\n",
       "purchase_value          float64\n",
       "device_id                 int32\n",
       "age                       int64\n",
       "ip_address                int64\n",
       "transaction_count       float64\n",
       "transaction_velocity    float64\n",
       "hour_of_day               int64\n",
       "day_of_week               int64\n",
       "browser_FireFox            bool\n",
       "browser_IE                 bool\n",
       "browser_Opera              bool\n",
       "browser_Safari             bool\n",
       "source_Direct              bool\n",
       "source_SEO                 bool\n",
       "sex_M                      bool\n",
       "time_diff_minutes       float64\n",
       "purchase_hour             int32\n",
       "purchase_day              int32\n",
       "purchase_month            int32\n",
       "dtype: object"
      ]
     },
     "execution_count": 32,
     "metadata": {},
     "output_type": "execute_result"
    }
   ],
   "source": [
    "X_fraud_test.dtypes"
   ]
  },
  {
   "cell_type": "markdown",
   "metadata": {},
   "source": [
    "### Model Selection"
   ]
  },
  {
   "cell_type": "markdown",
   "metadata": {},
   "source": [
    "#### Traditional Models:"
   ]
  },
  {
   "cell_type": "markdown",
   "metadata": {},
   "source": [
    "#### Extract useful features from the datetime columns"
   ]
  },
  {
   "cell_type": "code",
   "execution_count": 25,
   "metadata": {},
   "outputs": [
    {
     "data": {
      "text/html": [
       "<div>\n",
       "<style scoped>\n",
       "    .dataframe tbody tr th:only-of-type {\n",
       "        vertical-align: middle;\n",
       "    }\n",
       "\n",
       "    .dataframe tbody tr th {\n",
       "        vertical-align: top;\n",
       "    }\n",
       "\n",
       "    .dataframe thead th {\n",
       "        text-align: right;\n",
       "    }\n",
       "</style>\n",
       "<table border=\"1\" class=\"dataframe\">\n",
       "  <thead>\n",
       "    <tr style=\"text-align: right;\">\n",
       "      <th></th>\n",
       "      <th>user_id</th>\n",
       "      <th>signup_time</th>\n",
       "      <th>purchase_time</th>\n",
       "      <th>purchase_value</th>\n",
       "      <th>device_id</th>\n",
       "      <th>age</th>\n",
       "      <th>ip_address</th>\n",
       "      <th>class</th>\n",
       "      <th>transaction_count</th>\n",
       "      <th>transaction_velocity</th>\n",
       "      <th>hour_of_day</th>\n",
       "      <th>day_of_week</th>\n",
       "      <th>browser_FireFox</th>\n",
       "      <th>browser_IE</th>\n",
       "      <th>browser_Opera</th>\n",
       "      <th>browser_Safari</th>\n",
       "      <th>source_Direct</th>\n",
       "      <th>source_SEO</th>\n",
       "      <th>sex_M</th>\n",
       "    </tr>\n",
       "  </thead>\n",
       "  <tbody>\n",
       "    <tr>\n",
       "      <th>0</th>\n",
       "      <td>22058</td>\n",
       "      <td>2015-02-24 22:55:49</td>\n",
       "      <td>2015-04-18 02:47:11</td>\n",
       "      <td>-0.160204</td>\n",
       "      <td>QVPSPJUOCKZAR</td>\n",
       "      <td>39</td>\n",
       "      <td>732758368</td>\n",
       "      <td>0</td>\n",
       "      <td>0.0</td>\n",
       "      <td>0.0</td>\n",
       "      <td>2</td>\n",
       "      <td>5</td>\n",
       "      <td>False</td>\n",
       "      <td>False</td>\n",
       "      <td>False</td>\n",
       "      <td>False</td>\n",
       "      <td>False</td>\n",
       "      <td>True</td>\n",
       "      <td>True</td>\n",
       "    </tr>\n",
       "    <tr>\n",
       "      <th>1</th>\n",
       "      <td>333320</td>\n",
       "      <td>2015-06-07 20:39:50</td>\n",
       "      <td>2015-06-08 01:38:54</td>\n",
       "      <td>-1.142592</td>\n",
       "      <td>EOGFQPIZPYXFZ</td>\n",
       "      <td>53</td>\n",
       "      <td>350311387</td>\n",
       "      <td>0</td>\n",
       "      <td>0.0</td>\n",
       "      <td>0.0</td>\n",
       "      <td>1</td>\n",
       "      <td>0</td>\n",
       "      <td>False</td>\n",
       "      <td>False</td>\n",
       "      <td>False</td>\n",
       "      <td>False</td>\n",
       "      <td>False</td>\n",
       "      <td>False</td>\n",
       "      <td>False</td>\n",
       "    </tr>\n",
       "    <tr>\n",
       "      <th>2</th>\n",
       "      <td>1359</td>\n",
       "      <td>2015-01-01 18:52:44</td>\n",
       "      <td>2015-01-01 18:52:45</td>\n",
       "      <td>-1.197169</td>\n",
       "      <td>YSSKYOSJHPPLJ</td>\n",
       "      <td>53</td>\n",
       "      <td>-2147483648</td>\n",
       "      <td>1</td>\n",
       "      <td>0.0</td>\n",
       "      <td>0.0</td>\n",
       "      <td>18</td>\n",
       "      <td>3</td>\n",
       "      <td>False</td>\n",
       "      <td>False</td>\n",
       "      <td>True</td>\n",
       "      <td>False</td>\n",
       "      <td>False</td>\n",
       "      <td>True</td>\n",
       "      <td>True</td>\n",
       "    </tr>\n",
       "    <tr>\n",
       "      <th>3</th>\n",
       "      <td>150084</td>\n",
       "      <td>2015-04-28 21:13:25</td>\n",
       "      <td>2015-05-04 13:54:50</td>\n",
       "      <td>0.385567</td>\n",
       "      <td>ATGTXKYKUDUQN</td>\n",
       "      <td>41</td>\n",
       "      <td>-2147483648</td>\n",
       "      <td>0</td>\n",
       "      <td>0.0</td>\n",
       "      <td>0.0</td>\n",
       "      <td>13</td>\n",
       "      <td>0</td>\n",
       "      <td>False</td>\n",
       "      <td>False</td>\n",
       "      <td>False</td>\n",
       "      <td>True</td>\n",
       "      <td>False</td>\n",
       "      <td>True</td>\n",
       "      <td>True</td>\n",
       "    </tr>\n",
       "    <tr>\n",
       "      <th>4</th>\n",
       "      <td>221365</td>\n",
       "      <td>2015-07-21 07:09:52</td>\n",
       "      <td>2015-09-09 18:40:53</td>\n",
       "      <td>0.112681</td>\n",
       "      <td>NAUITBZFJKHWW</td>\n",
       "      <td>45</td>\n",
       "      <td>415583117</td>\n",
       "      <td>0</td>\n",
       "      <td>0.0</td>\n",
       "      <td>0.0</td>\n",
       "      <td>18</td>\n",
       "      <td>2</td>\n",
       "      <td>False</td>\n",
       "      <td>False</td>\n",
       "      <td>False</td>\n",
       "      <td>True</td>\n",
       "      <td>False</td>\n",
       "      <td>False</td>\n",
       "      <td>True</td>\n",
       "    </tr>\n",
       "  </tbody>\n",
       "</table>\n",
       "</div>"
      ],
      "text/plain": [
       "   user_id         signup_time       purchase_time  purchase_value  \\\n",
       "0    22058 2015-02-24 22:55:49 2015-04-18 02:47:11       -0.160204   \n",
       "1   333320 2015-06-07 20:39:50 2015-06-08 01:38:54       -1.142592   \n",
       "2     1359 2015-01-01 18:52:44 2015-01-01 18:52:45       -1.197169   \n",
       "3   150084 2015-04-28 21:13:25 2015-05-04 13:54:50        0.385567   \n",
       "4   221365 2015-07-21 07:09:52 2015-09-09 18:40:53        0.112681   \n",
       "\n",
       "       device_id  age  ip_address  class  transaction_count  \\\n",
       "0  QVPSPJUOCKZAR   39   732758368      0                0.0   \n",
       "1  EOGFQPIZPYXFZ   53   350311387      0                0.0   \n",
       "2  YSSKYOSJHPPLJ   53 -2147483648      1                0.0   \n",
       "3  ATGTXKYKUDUQN   41 -2147483648      0                0.0   \n",
       "4  NAUITBZFJKHWW   45   415583117      0                0.0   \n",
       "\n",
       "   transaction_velocity  hour_of_day  day_of_week  browser_FireFox  \\\n",
       "0                   0.0            2            5            False   \n",
       "1                   0.0            1            0            False   \n",
       "2                   0.0           18            3            False   \n",
       "3                   0.0           13            0            False   \n",
       "4                   0.0           18            2            False   \n",
       "\n",
       "   browser_IE  browser_Opera  browser_Safari  source_Direct  source_SEO  sex_M  \n",
       "0       False          False           False          False        True   True  \n",
       "1       False          False           False          False       False  False  \n",
       "2       False           True           False          False        True   True  \n",
       "3       False          False            True          False        True   True  \n",
       "4       False          False            True          False       False   True  "
      ]
     },
     "execution_count": 25,
     "metadata": {},
     "output_type": "execute_result"
    }
   ],
   "source": [
    "fraud_df.head()"
   ]
  },
  {
   "cell_type": "code",
   "execution_count": 67,
   "metadata": {},
   "outputs": [
    {
     "name": "stdout",
     "output_type": "stream",
     "text": [
      "user_id                int64\n",
      "purchase_value         int64\n",
      "device_id              int64\n",
      "source                 int64\n",
      "browser                int64\n",
      "sex                    int64\n",
      "age                    int64\n",
      "ip_address           float64\n",
      "time_diff_minutes    float64\n",
      "purchase_hour          int32\n",
      "purchase_day           int32\n",
      "purchase_month         int32\n",
      "dtype: object\n"
     ]
    }
   ],
   "source": [
    "import pandas as pd\n",
    "from sklearn.preprocessing import LabelEncoder\n",
    "\n",
    "# Convert 'signup_time' and 'purchase_time' to datetime format if not already done\n",
    "X_fraud_train['signup_time'] = pd.to_datetime(X_fraud_train['signup_time'])\n",
    "X_fraud_train['purchase_time'] = pd.to_datetime(X_fraud_train['purchase_time'])\n",
    "\n",
    "# Create numeric features from datetime columns\n",
    "X_fraud_train['time_diff_minutes'] = (X_fraud_train['purchase_time'] - X_fraud_train['signup_time']).dt.total_seconds() / 60.0\n",
    "X_fraud_train['purchase_hour'] = X_fraud_train['purchase_time'].dt.hour\n",
    "X_fraud_train['purchase_day'] = X_fraud_train['purchase_time'].dt.day\n",
    "X_fraud_train['purchase_month'] = X_fraud_train['purchase_time'].dt.month\n",
    "\n",
    "# Drop the original datetime columns\n",
    "X_fraud_train = X_fraud_train.drop(columns=['signup_time', 'purchase_time'])\n",
    "\n",
    "# Encode categorical features\n",
    "label_encoder = LabelEncoder()\n",
    "\n",
    "# Encode 'device_id', 'source', 'browser', and 'sex'\n",
    "X_fraud_train['device_id'] = label_encoder.fit_transform(X_fraud_train['device_id'])\n",
    "X_fraud_train['source'] = label_encoder.fit_transform(X_fraud_train['source'])\n",
    "X_fraud_train['browser'] = label_encoder.fit_transform(X_fraud_train['browser'])\n",
    "X_fraud_train['sex'] = label_encoder.fit_transform(X_fraud_train['sex'])\n",
    "\n",
    "# Verify all columns are now numeric\n",
    "print(X_fraud_train.dtypes)\n",
    "\n",
    "# # Now the data should be ready for model training\n",
    "# model.fit(X_fraud_train, y_fraud_train)\n"
   ]
  },
  {
   "cell_type": "code",
   "execution_count": 33,
   "metadata": {},
   "outputs": [
    {
     "name": "stdout",
     "output_type": "stream",
     "text": [
      "Logistic Regression - Fraud Data:\n",
      "              precision    recall  f1-score   support\n",
      "\n",
      "           0       0.91      1.00      0.95     27373\n",
      "           1       1.00      0.00      0.00      2850\n",
      "\n",
      "    accuracy                           0.91     30223\n",
      "   macro avg       0.95      0.50      0.48     30223\n",
      "weighted avg       0.91      0.91      0.86     30223\n",
      "\n",
      "Accuracy: 0.905800218376733\n",
      "\n",
      "\n",
      "Decision Tree - Fraud Data:\n",
      "              precision    recall  f1-score   support\n",
      "\n",
      "           0       0.95      0.94      0.95     27373\n",
      "           1       0.50      0.57      0.53      2850\n",
      "\n",
      "    accuracy                           0.91     30223\n",
      "   macro avg       0.73      0.75      0.74     30223\n",
      "weighted avg       0.91      0.91      0.91     30223\n",
      "\n",
      "Accuracy: 0.9054031697713661\n",
      "\n",
      "\n",
      "Random Forest - Fraud Data:\n",
      "              precision    recall  f1-score   support\n",
      "\n",
      "           0       0.95      1.00      0.98     27373\n",
      "           1       1.00      0.54      0.70      2850\n",
      "\n",
      "    accuracy                           0.96     30223\n",
      "   macro avg       0.98      0.77      0.84     30223\n",
      "weighted avg       0.96      0.96      0.95     30223\n",
      "\n",
      "Accuracy: 0.9564239155609966\n",
      "\n",
      "\n",
      "Gradient Boosting - Fraud Data:\n",
      "              precision    recall  f1-score   support\n",
      "\n",
      "           0       0.95      1.00      0.98     27373\n",
      "           1       1.00      0.54      0.70      2850\n",
      "\n",
      "    accuracy                           0.96     30223\n",
      "   macro avg       0.98      0.77      0.84     30223\n",
      "weighted avg       0.96      0.96      0.95     30223\n",
      "\n",
      "Accuracy: 0.9564239155609966\n",
      "\n",
      "\n"
     ]
    }
   ],
   "source": [
    "from sklearn.linear_model import LogisticRegression\n",
    "from sklearn.tree import DecisionTreeClassifier\n",
    "from sklearn.ensemble import RandomForestClassifier, GradientBoostingClassifier\n",
    "from sklearn.metrics import classification_report, accuracy_score\n",
    "\n",
    "\n",
    "# Initialize models\n",
    "models = {\n",
    "    'Logistic Regression': LogisticRegression(max_iter=1000),\n",
    "    'Decision Tree': DecisionTreeClassifier(),\n",
    "    'Random Forest': RandomForestClassifier(),\n",
    "    'Gradient Boosting': GradientBoostingClassifier()\n",
    "}\n",
    "\n",
    "# Train and evaluate models for Fraud Data\n",
    "for name, model in models.items():\n",
    "    \n",
    "    model.fit(X_fraud_train, y_fraud_train)\n",
    "    y_pred_fraud = model.predict(X_fraud_test)\n",
    "    print(f\"{name} - Fraud Data:\")\n",
    "    print(classification_report(y_fraud_test, y_pred_fraud))\n",
    "    print(\"Accuracy:\", accuracy_score(y_fraud_test, y_pred_fraud))\n",
    "    print(\"\\n\")"
   ]
  },
  {
   "cell_type": "code",
   "execution_count": 34,
   "metadata": {},
   "outputs": [
    {
     "name": "stdout",
     "output_type": "stream",
     "text": [
      "user_id                   int64\n",
      "purchase_value          float64\n",
      "device_id                 int32\n",
      "age                       int64\n",
      "ip_address                int64\n",
      "transaction_count       float64\n",
      "transaction_velocity    float64\n",
      "hour_of_day               int64\n",
      "day_of_week               int64\n",
      "browser_FireFox            bool\n",
      "browser_IE                 bool\n",
      "browser_Opera              bool\n",
      "browser_Safari             bool\n",
      "source_Direct              bool\n",
      "source_SEO                 bool\n",
      "sex_M                      bool\n",
      "time_diff_minutes       float64\n",
      "purchase_hour             int32\n",
      "purchase_day              int32\n",
      "purchase_month            int32\n",
      "dtype: object\n"
     ]
    }
   ],
   "source": [
    "print(X_fraud_train.dtypes)"
   ]
  },
  {
   "cell_type": "code",
   "execution_count": 35,
   "metadata": {},
   "outputs": [
    {
     "name": "stderr",
     "output_type": "stream",
     "text": [
      "c:\\Users\\lenovo\\Documents\\10acadmy\\FraudDetection-for-E-commerce-Banking\\.venv\\Lib\\site-packages\\keras\\src\\layers\\core\\dense.py:87: UserWarning: Do not pass an `input_shape`/`input_dim` argument to a layer. When using Sequential models, prefer using an `Input(shape)` object as the first layer in the model instead.\n",
      "  super().__init__(activity_regularizer=activity_regularizer, **kwargs)\n"
     ]
    },
    {
     "name": "stdout",
     "output_type": "stream",
     "text": [
      "Epoch 1/10\n",
      "\u001b[1m7121/7121\u001b[0m \u001b[32m━━━━━━━━━━━━━━━━━━━━\u001b[0m\u001b[37m\u001b[0m \u001b[1m43s\u001b[0m 5ms/step - accuracy: 0.9924 - loss: 44.4865 - val_accuracy: 0.9983 - val_loss: 0.6922\n",
      "Epoch 2/10\n",
      "\u001b[1m7121/7121\u001b[0m \u001b[32m━━━━━━━━━━━━━━━━━━━━\u001b[0m\u001b[37m\u001b[0m \u001b[1m42s\u001b[0m 6ms/step - accuracy: 0.9978 - loss: 0.2038 - val_accuracy: 0.9983 - val_loss: 0.0128\n",
      "Epoch 3/10\n",
      "\u001b[1m7121/7121\u001b[0m \u001b[32m━━━━━━━━━━━━━━━━━━━━\u001b[0m\u001b[37m\u001b[0m \u001b[1m42s\u001b[0m 6ms/step - accuracy: 0.9982 - loss: 0.0291 - val_accuracy: 0.9983 - val_loss: 0.0127\n",
      "Epoch 4/10\n",
      "\u001b[1m7121/7121\u001b[0m \u001b[32m━━━━━━━━━━━━━━━━━━━━\u001b[0m\u001b[37m\u001b[0m \u001b[1m44s\u001b[0m 6ms/step - accuracy: 0.9983 - loss: 0.0169 - val_accuracy: 0.9983 - val_loss: 0.0474\n",
      "Epoch 5/10\n",
      "\u001b[1m7121/7121\u001b[0m \u001b[32m━━━━━━━━━━━━━━━━━━━━\u001b[0m\u001b[37m\u001b[0m \u001b[1m36s\u001b[0m 5ms/step - accuracy: 0.9983 - loss: 0.0295 - val_accuracy: 0.9983 - val_loss: 0.0127\n",
      "Epoch 6/10\n",
      "\u001b[1m7121/7121\u001b[0m \u001b[32m━━━━━━━━━━━━━━━━━━━━\u001b[0m\u001b[37m\u001b[0m \u001b[1m36s\u001b[0m 5ms/step - accuracy: 0.9982 - loss: 0.0504 - val_accuracy: 0.9983 - val_loss: 0.0127\n",
      "Epoch 7/10\n",
      "\u001b[1m7121/7121\u001b[0m \u001b[32m━━━━━━━━━━━━━━━━━━━━\u001b[0m\u001b[37m\u001b[0m \u001b[1m37s\u001b[0m 5ms/step - accuracy: 0.9982 - loss: 0.0195 - val_accuracy: 0.9983 - val_loss: 0.0127\n",
      "Epoch 8/10\n",
      "\u001b[1m7121/7121\u001b[0m \u001b[32m━━━━━━━━━━━━━━━━━━━━\u001b[0m\u001b[37m\u001b[0m \u001b[1m41s\u001b[0m 5ms/step - accuracy: 0.9982 - loss: 0.0188 - val_accuracy: 0.9983 - val_loss: 0.0127\n",
      "Epoch 9/10\n",
      "\u001b[1m7121/7121\u001b[0m \u001b[32m━━━━━━━━━━━━━━━━━━━━\u001b[0m\u001b[37m\u001b[0m \u001b[1m37s\u001b[0m 5ms/step - accuracy: 0.9982 - loss: 0.0143 - val_accuracy: 0.9983 - val_loss: 0.0127\n",
      "Epoch 10/10\n",
      "\u001b[1m7121/7121\u001b[0m \u001b[32m━━━━━━━━━━━━━━━━━━━━\u001b[0m\u001b[37m\u001b[0m \u001b[1m38s\u001b[0m 5ms/step - accuracy: 0.9982 - loss: 0.0328 - val_accuracy: 0.9983 - val_loss: 0.0127\n"
     ]
    },
    {
     "data": {
      "text/plain": [
       "<keras.src.callbacks.history.History at 0x1d63801d610>"
      ]
     },
     "execution_count": 35,
     "metadata": {},
     "output_type": "execute_result"
    }
   ],
   "source": [
    "from tensorflow.keras.models import Sequential\n",
    "from tensorflow.keras.layers import Dense, Conv2D, Flatten, LSTM, Embedding, Dropout\n",
    "from sklearn.preprocessing import StandardScaler\n",
    "\n",
    "# Scale data for Neural Networks\n",
    "scaler = StandardScaler()\n",
    "X_creditcard_scaled = scaler.fit_transform(X_creditcard)\n",
    "\n",
    "# Reshape for CNN (assuming 2D structure, modify according to your features)\n",
    "X_creditcard_cnn = X_creditcard_scaled.reshape(-1, X_creditcard_scaled.shape[1], 1)\n",
    "\n",
    "# MLP Model\n",
    "def create_mlp_model(input_shape):\n",
    "    model = Sequential()\n",
    "    model.add(Dense(64, activation='relu', input_shape=(input_shape,)))\n",
    "    model.add(Dropout(0.5))\n",
    "    model.add(Dense(32, activation='relu'))\n",
    "    model.add(Dense(1, activation='sigmoid'))\n",
    "    return model\n",
    "\n",
    "mlp_model = create_mlp_model(X_creditcard.shape[1])\n",
    "mlp_model.compile(optimizer='adam', loss='binary_crossentropy', metrics=['accuracy'])\n",
    "mlp_model.fit(X_creditcard_train, y_creditcard_train, epochs=10, batch_size=32, validation_data=(X_creditcard_test, y_creditcard_test))\n"
   ]
  },
  {
   "cell_type": "code",
   "execution_count": 36,
   "metadata": {},
   "outputs": [
    {
     "name": "stderr",
     "output_type": "stream",
     "text": [
      "c:\\Users\\lenovo\\Documents\\10acadmy\\FraudDetection-for-E-commerce-Banking\\.venv\\Lib\\site-packages\\keras\\src\\layers\\convolutional\\base_conv.py:107: UserWarning: Do not pass an `input_shape`/`input_dim` argument to a layer. When using Sequential models, prefer using an `Input(shape)` object as the first layer in the model instead.\n",
      "  super().__init__(activity_regularizer=activity_regularizer, **kwargs)\n"
     ]
    },
    {
     "name": "stdout",
     "output_type": "stream",
     "text": [
      "Epoch 1/10\n",
      "\u001b[1m7121/7121\u001b[0m \u001b[32m━━━━━━━━━━━━━━━━━━━━\u001b[0m\u001b[37m\u001b[0m \u001b[1m39s\u001b[0m 5ms/step - accuracy: 0.9947 - loss: 0.0234\n",
      "Epoch 2/10\n",
      "\u001b[1m7121/7121\u001b[0m \u001b[32m━━━━━━━━━━━━━━━━━━━━\u001b[0m\u001b[37m\u001b[0m \u001b[1m32s\u001b[0m 5ms/step - accuracy: 0.9994 - loss: 0.0034\n",
      "Epoch 3/10\n",
      "\u001b[1m7121/7121\u001b[0m \u001b[32m━━━━━━━━━━━━━━━━━━━━\u001b[0m\u001b[37m\u001b[0m \u001b[1m35s\u001b[0m 5ms/step - accuracy: 0.9994 - loss: 0.0032\n",
      "Epoch 4/10\n",
      "\u001b[1m7121/7121\u001b[0m \u001b[32m━━━━━━━━━━━━━━━━━━━━\u001b[0m\u001b[37m\u001b[0m \u001b[1m35s\u001b[0m 5ms/step - accuracy: 0.9995 - loss: 0.0026\n",
      "Epoch 5/10\n",
      "\u001b[1m7121/7121\u001b[0m \u001b[32m━━━━━━━━━━━━━━━━━━━━\u001b[0m\u001b[37m\u001b[0m \u001b[1m36s\u001b[0m 5ms/step - accuracy: 0.9995 - loss: 0.0025\n",
      "Epoch 6/10\n",
      "\u001b[1m7121/7121\u001b[0m \u001b[32m━━━━━━━━━━━━━━━━━━━━\u001b[0m\u001b[37m\u001b[0m \u001b[1m34s\u001b[0m 5ms/step - accuracy: 0.9994 - loss: 0.0030\n",
      "Epoch 7/10\n",
      "\u001b[1m7121/7121\u001b[0m \u001b[32m━━━━━━━━━━━━━━━━━━━━\u001b[0m\u001b[37m\u001b[0m \u001b[1m37s\u001b[0m 5ms/step - accuracy: 0.9995 - loss: 0.0023\n",
      "Epoch 8/10\n",
      "\u001b[1m7121/7121\u001b[0m \u001b[32m━━━━━━━━━━━━━━━━━━━━\u001b[0m\u001b[37m\u001b[0m \u001b[1m33s\u001b[0m 5ms/step - accuracy: 0.9995 - loss: 0.0028\n",
      "Epoch 9/10\n",
      "\u001b[1m7121/7121\u001b[0m \u001b[32m━━━━━━━━━━━━━━━━━━━━\u001b[0m\u001b[37m\u001b[0m \u001b[1m38s\u001b[0m 5ms/step - accuracy: 0.9994 - loss: 0.0026\n",
      "Epoch 10/10\n",
      "\u001b[1m7121/7121\u001b[0m \u001b[32m━━━━━━━━━━━━━━━━━━━━\u001b[0m\u001b[37m\u001b[0m \u001b[1m36s\u001b[0m 5ms/step - accuracy: 0.9995 - loss: 0.0023\n"
     ]
    },
    {
     "data": {
      "text/plain": [
       "<keras.src.callbacks.history.History at 0x1d63eaa3e10>"
      ]
     },
     "execution_count": 36,
     "metadata": {},
     "output_type": "execute_result"
    }
   ],
   "source": [
    "from tensorflow.keras.models import Sequential\n",
    "from tensorflow.keras.layers import Conv1D, Flatten, Dense\n",
    "\n",
    "# Scale data for Neural Networks\n",
    "scaler = StandardScaler()\n",
    "X_creditcard_scaled = scaler.fit_transform(X_creditcard)\n",
    "X_creditcard_train = scaler.fit_transform(X_creditcard_train)\n",
    "X_creditcard_test = scaler.fit_transform(X_creditcard_test)\n",
    "\n",
    "X_creditcard_cnn = X_creditcard_train.reshape(-1, X_creditcard_scaled.shape[1], 1)\n",
    "X_creditcard_cnn_test = X_creditcard_test.reshape(-1, X_creditcard_scaled.shape[1], 1)\n",
    "\n",
    "# Adjust the CNN model for 1D data\n",
    "cnn_model = Sequential()\n",
    "\n",
    "# Assuming X_creditcard_cnn has shape (samples, 30 features, 1 channel)\n",
    "cnn_model.add(Conv1D(32, kernel_size=3, activation='relu', input_shape=(30, 1)))\n",
    "cnn_model.add(Flatten())\n",
    "cnn_model.add(Dense(1, activation='sigmoid'))\n",
    "\n",
    "cnn_model.compile(optimizer='adam', loss='binary_crossentropy', metrics=['accuracy'])\n",
    "\n",
    "# Train the model\n",
    "cnn_model.fit(X_creditcard_cnn, y_creditcard_train, epochs=10, batch_size=32)\n"
   ]
  },
  {
   "cell_type": "code",
   "execution_count": 37,
   "metadata": {},
   "outputs": [
    {
     "name": "stderr",
     "output_type": "stream",
     "text": [
      "c:\\Users\\lenovo\\Documents\\10acadmy\\FraudDetection-for-E-commerce-Banking\\.venv\\Lib\\site-packages\\keras\\src\\layers\\rnn\\rnn.py:204: UserWarning: Do not pass an `input_shape`/`input_dim` argument to a layer. When using Sequential models, prefer using an `Input(shape)` object as the first layer in the model instead.\n",
      "  super().__init__(**kwargs)\n"
     ]
    },
    {
     "name": "stdout",
     "output_type": "stream",
     "text": [
      "Epoch 1/10\n",
      "\u001b[1m7121/7121\u001b[0m \u001b[32m━━━━━━━━━━━━━━━━━━━━\u001b[0m\u001b[37m\u001b[0m \u001b[1m153s\u001b[0m 21ms/step - accuracy: 0.9932 - loss: 1066.4052\n",
      "Epoch 2/10\n",
      "\u001b[1m7121/7121\u001b[0m \u001b[32m━━━━━━━━━━━━━━━━━━━━\u001b[0m\u001b[37m\u001b[0m \u001b[1m119s\u001b[0m 17ms/step - accuracy: 0.9987 - loss: 0.0154\n",
      "Epoch 3/10\n",
      "\u001b[1m7121/7121\u001b[0m \u001b[32m━━━━━━━━━━━━━━━━━━━━\u001b[0m\u001b[37m\u001b[0m \u001b[1m110s\u001b[0m 15ms/step - accuracy: 0.9989 - loss: 0.0053\n",
      "Epoch 4/10\n",
      "\u001b[1m7121/7121\u001b[0m \u001b[32m━━━━━━━━━━━━━━━━━━━━\u001b[0m\u001b[37m\u001b[0m \u001b[1m107s\u001b[0m 15ms/step - accuracy: 0.9989 - loss: 0.0057\n",
      "Epoch 5/10\n",
      "\u001b[1m7121/7121\u001b[0m \u001b[32m━━━━━━━━━━━━━━━━━━━━\u001b[0m\u001b[37m\u001b[0m \u001b[1m123s\u001b[0m 17ms/step - accuracy: 0.9990 - loss: 0.0046\n",
      "Epoch 6/10\n",
      "\u001b[1m7121/7121\u001b[0m \u001b[32m━━━━━━━━━━━━━━━━━━━━\u001b[0m\u001b[37m\u001b[0m \u001b[1m122s\u001b[0m 17ms/step - accuracy: 0.9992 - loss: 0.0039\n",
      "Epoch 7/10\n",
      "\u001b[1m7121/7121\u001b[0m \u001b[32m━━━━━━━━━━━━━━━━━━━━\u001b[0m\u001b[37m\u001b[0m \u001b[1m112s\u001b[0m 16ms/step - accuracy: 0.9992 - loss: 13.5899\n",
      "Epoch 8/10\n",
      "\u001b[1m7121/7121\u001b[0m \u001b[32m━━━━━━━━━━━━━━━━━━━━\u001b[0m\u001b[37m\u001b[0m \u001b[1m103s\u001b[0m 14ms/step - accuracy: 0.9991 - loss: 0.0064\n",
      "Epoch 9/10\n",
      "\u001b[1m7121/7121\u001b[0m \u001b[32m━━━━━━━━━━━━━━━━━━━━\u001b[0m\u001b[37m\u001b[0m \u001b[1m103s\u001b[0m 15ms/step - accuracy: 0.9992 - loss: 0.0044\n",
      "Epoch 10/10\n",
      "\u001b[1m7121/7121\u001b[0m \u001b[32m━━━━━━━━━━━━━━━━━━━━\u001b[0m\u001b[37m\u001b[0m \u001b[1m121s\u001b[0m 17ms/step - accuracy: 0.9991 - loss: 0.0117\n"
     ]
    },
    {
     "data": {
      "text/plain": [
       "<keras.src.callbacks.history.History at 0x1d6317b3950>"
      ]
     },
     "execution_count": 37,
     "metadata": {},
     "output_type": "execute_result"
    }
   ],
   "source": [
    "# LSTM Model (assuming sequential data)\n",
    "lstm_model = Sequential()\n",
    "lstm_model.add(LSTM(50, activation='relu', input_shape=(X_creditcard.shape[1], 1)))\n",
    "lstm_model.add(Dense(1, activation='sigmoid'))\n",
    "lstm_model.compile(optimizer='adam', loss='binary_crossentropy', metrics=['accuracy'])\n",
    "lstm_model.fit(X_creditcard_train, y_creditcard_train, epochs=10, batch_size=32)"
   ]
  },
  {
   "cell_type": "markdown",
   "metadata": {},
   "source": [
    "Logistic Regression - Fraud Data:\n",
    "              precision    recall  f1-score   support\n",
    "\n",
    "           0       0.91      1.00      0.95     27373\n",
    "           1       0.00      0.00      0.00      2850\n",
    "\n",
    "    accuracy                           0.91     30223\n",
    "   macro avg       0.45      0.50      0.48     30223\n",
    "weighted avg       0.82      0.91      0.86     30223\n",
    "\n",
    "Accuracy: 0.9057009562253913\n",
    "\n",
    "\n",
    "c:\\Users\\lenovo\\Documents\\10acadmy\\FraudDetection-for-E-commerce-Banking\\.venv\\Lib\\site-packages\\sklearn\\metrics\\_classification.py:1469: UndefinedMetricWarning: Precision and F-score are ill-defined and being set to 0.0 in labels with no predicted samples. Use `zero_division` parameter to control this behavior.\n",
    "  _warn_prf(average, modifier, msg_start, len(result))\n",
    "c:\\Users\\lenovo\\Documents\\10acadmy\\FraudDetection-for-E-commerce-Banking\\.venv\\Lib\\site-packages\\sklearn\\metrics\\_classification.py:1469: UndefinedMetricWarning: Precision and F-score are ill-defined and being set to 0.0 in labels with no predicted samples. Use `zero_division` parameter to control this behavior.\n",
    "  _warn_prf(average, modifier, msg_start, len(result))\n",
    "c:\\Users\\lenovo\\Documents\\10acadmy\\FraudDetection-for-E-commerce-Banking\\.venv\\Lib\\site-packages\\sklearn\\metrics\\_classification.py:1469: UndefinedMetricWarning: Precision and F-score are ill-defined and being set to 0.0 in labels with no predicted samples. Use `zero_division` parameter to control this behavior.\n",
    "  _warn_prf(average, modifier, msg_start, len(result))\n",
    "Decision Tree - Fraud Data:\n",
    "              precision    recall  f1-score   support\n",
    "\n",
    "           0       0.95      0.94      0.95     27373\n",
    "           1       0.50      0.57      0.53      2850\n",
    "\n",
    "    accuracy                           0.91     30223\n",
    "   macro avg       0.73      0.76      0.74     30223\n",
    "weighted avg       0.91      0.91      0.91     30223\n",
    "\n",
    "Accuracy: 0.9065943155874665\n",
    "\n",
    "\n",
    "Random Forest - Fraud Data:\n",
    "              precision    recall  f1-score   support\n",
    "\n",
    "           0       0.95      1.00      0.98     27373\n",
    "           1       1.00      0.54      0.70      2850\n",
    "\n",
    "    accuracy                           0.96     30223\n",
    "   macro avg       0.98      0.77      0.84     30223\n",
    "weighted avg       0.96      0.96      0.95     30223\n",
    "\n",
    "Accuracy: 0.956390828177216\n",
    "\n",
    "\n",
    "Gradient Boosting - Fraud Data:\n",
    "              precision    recall  f1-score   support\n",
    "\n",
    "           0       0.95      1.00      0.98     27373\n",
    "           1       1.00      0.54      0.70      2850\n",
    "\n",
    "    accuracy                           0.96     30223\n",
    "   macro avg       0.98      0.77      0.84     30223\n",
    "weighted avg       0.96      0.96      0.95     30223\n",
    "\n",
    "Accuracy: 0.9564239155609966\n",
    "\n",
    "\n"
   ]
  },
  {
   "cell_type": "code",
   "execution_count": 38,
   "metadata": {},
   "outputs": [
    {
     "name": "stdout",
     "output_type": "stream",
     "text": [
      "\u001b[1m1781/1781\u001b[0m \u001b[32m━━━━━━━━━━━━━━━━━━━━\u001b[0m\u001b[37m\u001b[0m \u001b[1m8s\u001b[0m 4ms/step\n"
     ]
    },
    {
     "name": "stderr",
     "output_type": "stream",
     "text": [
      "c:\\Users\\lenovo\\Documents\\10acadmy\\FraudDetection-for-E-commerce-Banking\\.venv\\Lib\\site-packages\\sklearn\\metrics\\_classification.py:1469: UndefinedMetricWarning: Precision and F-score are ill-defined and being set to 0.0 in labels with no predicted samples. Use `zero_division` parameter to control this behavior.\n",
      "  _warn_prf(average, modifier, msg_start, len(result))\n",
      "c:\\Users\\lenovo\\Documents\\10acadmy\\FraudDetection-for-E-commerce-Banking\\.venv\\Lib\\site-packages\\sklearn\\metrics\\_classification.py:1469: UndefinedMetricWarning: Precision and F-score are ill-defined and being set to 0.0 in labels with no predicted samples. Use `zero_division` parameter to control this behavior.\n",
      "  _warn_prf(average, modifier, msg_start, len(result))\n",
      "c:\\Users\\lenovo\\Documents\\10acadmy\\FraudDetection-for-E-commerce-Banking\\.venv\\Lib\\site-packages\\sklearn\\metrics\\_classification.py:1469: UndefinedMetricWarning: Precision and F-score are ill-defined and being set to 0.0 in labels with no predicted samples. Use `zero_division` parameter to control this behavior.\n",
      "  _warn_prf(average, modifier, msg_start, len(result))\n"
     ]
    },
    {
     "name": "stdout",
     "output_type": "stream",
     "text": [
      "              precision    recall  f1-score   support\n",
      "\n",
      "           0       1.00      1.00      1.00     56864\n",
      "           1       0.00      0.00      0.00        98\n",
      "\n",
      "    accuracy                           1.00     56962\n",
      "   macro avg       0.50      0.50      0.50     56962\n",
      "weighted avg       1.00      1.00      1.00     56962\n",
      "\n",
      "Accuracy: 0.9982795547909132\n",
      "\u001b[1m1781/1781\u001b[0m \u001b[32m━━━━━━━━━━━━━━━━━━━━\u001b[0m\u001b[37m\u001b[0m \u001b[1m5s\u001b[0m 3ms/step\n",
      "              precision    recall  f1-score   support\n",
      "\n",
      "           0       1.00      1.00      1.00     56864\n",
      "           1       0.97      0.66      0.79        98\n",
      "\n",
      "    accuracy                           1.00     56962\n",
      "   macro avg       0.98      0.83      0.89     56962\n",
      "weighted avg       1.00      1.00      1.00     56962\n",
      "\n",
      "Accuracy: 0.999385555282469\n",
      "\u001b[1m1781/1781\u001b[0m \u001b[32m━━━━━━━━━━━━━━━━━━━━\u001b[0m\u001b[37m\u001b[0m \u001b[1m13s\u001b[0m 7ms/step\n",
      "              precision    recall  f1-score   support\n",
      "\n",
      "           0       1.00      1.00      1.00     56864\n",
      "           1       0.80      0.72      0.76        98\n",
      "\n",
      "    accuracy                           1.00     56962\n",
      "   macro avg       0.90      0.86      0.88     56962\n",
      "weighted avg       1.00      1.00      1.00     56962\n",
      "\n",
      "Accuracy: 0.9992099996488887\n"
     ]
    }
   ],
   "source": [
    "# Function to evaluate model performance\n",
    "def evaluate_model(model, X_test, y_test):\n",
    "    y_pred = model.predict(X_test)\n",
    "    y_pred_classes = (y_pred > 0.5).astype(int)  # Thresholding for binary classification\n",
    "    print(classification_report(y_test, y_pred_classes))\n",
    "    print(\"Accuracy:\", accuracy_score(y_test, y_pred_classes))\n",
    "\n",
    "# Evaluate the MLP model\n",
    "evaluate_model(mlp_model, X_creditcard_test, y_creditcard_test)\n",
    "\n",
    "# Evaluate the CNN model\n",
    "evaluate_model(cnn_model, X_creditcard_test, y_creditcard_test)\n",
    "\n",
    "# Evaluate the LSTM model\n",
    "evaluate_model(lstm_model, X_creditcard_test, y_creditcard_test)\n"
   ]
  }
 ],
 "metadata": {
  "kernelspec": {
   "display_name": ".venv",
   "language": "python",
   "name": "python3"
  },
  "language_info": {
   "codemirror_mode": {
    "name": "ipython",
    "version": 3
   },
   "file_extension": ".py",
   "mimetype": "text/x-python",
   "name": "python",
   "nbconvert_exporter": "python",
   "pygments_lexer": "ipython3",
   "version": "3.11.4"
  }
 },
 "nbformat": 4,
 "nbformat_minor": 2
}
